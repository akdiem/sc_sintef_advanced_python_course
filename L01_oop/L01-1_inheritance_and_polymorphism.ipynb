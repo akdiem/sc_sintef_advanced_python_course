{
 "cells": [
  {
   "cell_type": "markdown",
   "metadata": {},
   "source": [
    "# L01.1 Inheritance and Polymorphism\n",
    "\n",
    "One of the major advantages of OOP is its inherent ability to avoid code duplication. Inheritance is an essential to this advantage. Let's look at an example."
   ]
  },
  {
   "cell_type": "code",
   "execution_count": 10,
   "metadata": {},
   "outputs": [
    {
     "name": "stdout",
     "output_type": "stream",
     "text": [
      "Tuppen meows.\n",
      "Lillemor meows.\n",
      "Bella barks.\n",
      "Tuppen plays.\n",
      "Lillemor plays.\n",
      "Bella plays.\n"
     ]
    }
   ],
   "source": [
    "class Pet(object):\n",
    "    def __init__(self, name):\n",
    "        self._name = name\n",
    "        \n",
    "    def get_name(self):\n",
    "        return name\n",
    "        \n",
    "    def play(self):\n",
    "        print(f\"{self._name} plays.\")\n",
    "              \n",
    "\n",
    "class Cat(Pet):\n",
    "    def meow(self):\n",
    "        print(f\"{self._name} meows.\")\n",
    "        \n",
    "    \n",
    "class Dog(Pet):\n",
    "    def bark(self):\n",
    "        print(f\"{self._name} barks.\")\n",
    "        \n",
    "\n",
    "tuppen = Cat(\"Tuppen\")\n",
    "lillemor = Cat(\"Lillemor\")\n",
    "bella = Dog(\"Bella\")\n",
    "\n",
    "tuppen.meow()\n",
    "lillemor.meow()\n",
    "bella.bark()\n",
    "\n",
    "tuppen.play()\n",
    "lillemor.play()\n",
    "bella.play()"
   ]
  },
  {
   "cell_type": "markdown",
   "metadata": {},
   "source": [
    "Inheritance provides the flexibility to implement _similar objects_ with as little repetition as possible by implementing _child_ classes (```Cat``` and ```Dog```) that inherit methods and attributes from a common _parent_ class (```Pet```).\n",
    "\n",
    "### Polymorphism\n",
    "\n",
    "From greek _poly_ (many) and _morphe_ (form). Polymorphism describes the ability to take on multiple forms, and in the context of OOP and inheritance this means that a child class can reimplement a method provided by the parent class. We can use ```super()``` to call the method from the parent class in case we also need this behaviour. This is useful when not all child classes require its own implementation of this \"default\" method from the parent class."
   ]
  },
  {
   "cell_type": "code",
   "execution_count": 12,
   "metadata": {},
   "outputs": [
    {
     "name": "stdout",
     "output_type": "stream",
     "text": [
      "Tuppen is a cat.\n",
      "Lillemor is a cat.\n",
      "Bella is a dog.\n",
      "Goldie is a fish.\n",
      "Tuppen requests food.\n",
      "Tuppen meows.\n",
      "Lillemor requests food.\n",
      "Lillemor meows.\n",
      "Bella requests food.\n",
      "Bella barks.\n",
      "Goldie requests food.\n"
     ]
    }
   ],
   "source": [
    "class Pet(object):\n",
    "    def __init__(self, name):\n",
    "        self._name = name\n",
    "        \n",
    "    def get_name(self):\n",
    "        return name\n",
    "    \n",
    "    def request_food(self):\n",
    "        print(f\"{self._name} requests food.\")\n",
    "        \n",
    "    def play(self):\n",
    "        print(f\"{self._name} plays.\")\n",
    "              \n",
    "\n",
    "class Cat(Pet):\n",
    "    def __init__(self, name):\n",
    "        super().__init__(name)\n",
    "        print(f\"{self._name} is a cat.\")\n",
    "        \n",
    "    def request_food(self):\n",
    "        super().request_food()\n",
    "        self.meow()\n",
    "        \n",
    "    def meow(self):\n",
    "        print(f\"{self._name} meows.\")\n",
    "        \n",
    "    \n",
    "class Dog(Pet):\n",
    "    def __init__(self, name):\n",
    "        super().__init__(name)\n",
    "        print(f\"{self._name} is a dog.\")\n",
    "        \n",
    "    def request_food(self):\n",
    "        super().request_food()\n",
    "        self.bark()\n",
    "        \n",
    "    def bark(self):\n",
    "        print(f\"{self._name} barks.\")\n",
    "        \n",
    "    \n",
    "class Goldfish(Pet):\n",
    "    def __init__(self, name):\n",
    "        super().__init__(name)\n",
    "        print(f\"{self._name} is a fish.\")\n",
    "\n",
    "        \n",
    "\n",
    "tuppen = Cat(\"Tuppen\")\n",
    "lillemor = Cat(\"Lillemor\")\n",
    "bella = Dog(\"Bella\")\n",
    "goldie = Goldfish(\"Goldie\")\n",
    "\n",
    "tuppen.request_food()\n",
    "lillemor.request_food()\n",
    "bella.request_food()\n",
    "goldie.request_food()"
   ]
  },
  {
   "cell_type": "markdown",
   "metadata": {},
   "source": [
    "We've already been using the concept of inheritance and polymorphisms all this time. Given that everything in Python is an object, so is the keyword ```object``` that we supply as an argument to a class definition. ```object``` is called _the Base Class_ and every class we create inherits from the Base Class, which provides a set of methods whose names start and finish with double underscores, like ```__init__()``` and ```__repr()```. This means that the simplest possible class definition is an empty class"
   ]
  },
  {
   "cell_type": "code",
   "execution_count": 16,
   "metadata": {},
   "outputs": [],
   "source": [
    "class A():\n",
    "    pass\n",
    "\n",
    "a = A()"
   ]
  },
  {
   "cell_type": "markdown",
   "metadata": {},
   "source": [
    "This can be useful when all you are interested in is labelling data, however, for this particular purpose Python nowadays offers some dedicated data types that we will cover in the next lecture."
   ]
  },
  {
   "cell_type": "markdown",
   "metadata": {},
   "source": [
    "### Multiple Inheritance\n",
    "\n",
    "Python also allows for multiple inheritence by inheriting from multiple classes. In the case of overlapping method implementations the hierarchy is left to right."
   ]
  },
  {
   "cell_type": "code",
   "execution_count": 8,
   "metadata": {},
   "outputs": [
    {
     "name": "stdout",
     "output_type": "stream",
     "text": [
      "Discipline is triathlon.\n",
      "Main training is running.\n",
      "Cycling.\n",
      "Running.\n",
      "Swimming.\n"
     ]
    }
   ],
   "source": [
    "class Cyclist(object):\n",
    "    def training(self):\n",
    "        print(\"Main training is cycling.\")\n",
    "        \n",
    "    def cycling(self):\n",
    "        print(\"Cycling.\")\n",
    "        \n",
    "class Runner(object):\n",
    "    def training(self):\n",
    "        print(\"Main training is running.\")\n",
    "        \n",
    "    def running(self):\n",
    "        print(\"Running.\")\n",
    "        \n",
    "class Swimmer(object):\n",
    "    def training(self):\n",
    "        print(\"Main training is wwimming.\")\n",
    "        \n",
    "    def swimming(self):\n",
    "        print(\"Swimming.\")\n",
    "    \n",
    "class Triathlete(Cyclist, Runner, Swimmer):\n",
    "    def discipline(self):\n",
    "        print(\"Discipline is triathlon.\")\n",
    "        \n",
    "tri = Triathlete()\n",
    "tri.discipline()\n",
    "tri.training()\n",
    "tri.cycling()\n",
    "tri.running()\n",
    "tri.swimming()"
   ]
  },
  {
   "cell_type": "code",
   "execution_count": null,
   "metadata": {},
   "outputs": [],
   "source": []
  }
 ],
 "metadata": {
  "kernelspec": {
   "display_name": "Python 3",
   "language": "python",
   "name": "python3"
  },
  "language_info": {
   "codemirror_mode": {
    "name": "ipython",
    "version": 3
   },
   "file_extension": ".py",
   "mimetype": "text/x-python",
   "name": "python",
   "nbconvert_exporter": "python",
   "pygments_lexer": "ipython3",
   "version": "3.8.2"
  }
 },
 "nbformat": 4,
 "nbformat_minor": 4
}

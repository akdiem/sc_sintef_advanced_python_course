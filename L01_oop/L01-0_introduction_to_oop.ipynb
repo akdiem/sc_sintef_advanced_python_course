{
 "cells": [
  {
   "cell_type": "markdown",
   "metadata": {},
   "source": [
    "# L01.0 Introduction to object-oriented programming in Python\n",
    "\n",
    "Python is an _interpreted_, _high-level_ programming language. Interpreted means that Python code is executed _at runtime_. In contrast to that, C and Java are examples of _compiled_ programming languages, which are compiled into _executables_ that produce results/outputs. High-level means that Python is designed to be easily human _readable_, meaning that anyone with any programming experience can (in principle) easily understand Python code.\n",
    "\n",
    "Python is also a so-called multi-paradigm programming language that supports the following programming paradigms:\n",
    "\n",
    "- functional programming\n",
    "- procedural programming\n",
    "- object-oriented programming\n",
    "\n",
    "Their differences are best explained using examples. Here, we will implement the intuitive (but arguably useless) example of calculating the square of each number in a list of numbers:"
   ]
  },
  {
   "cell_type": "code",
   "execution_count": 35,
   "metadata": {},
   "outputs": [],
   "source": [
    "numbers = [0, 1, 2, 3, 4, 5]\n",
    "\n",
    "# function that squares a number a\n",
    "def square(a):\n",
    "    return a*a"
   ]
  },
  {
   "cell_type": "markdown",
   "metadata": {},
   "source": [
    "### Procedural programming\n",
    "\n",
    "Procedural programming is based on executing a series of computational steps. By using functions, procedural programming provides the simplest form of modularisation."
   ]
  },
  {
   "cell_type": "code",
   "execution_count": 36,
   "metadata": {},
   "outputs": [
    {
     "name": "stdout",
     "output_type": "stream",
     "text": [
      "[0, 1, 4, 9, 16, 25]\n"
     ]
    }
   ],
   "source": [
    "squares = []\n",
    "for n in numbers:\n",
    "    squares += [square(n)]\n",
    "\n",
    "# view output\n",
    "print(squares)"
   ]
  },
  {
   "cell_type": "markdown",
   "metadata": {},
   "source": [
    "### Functional programming\n",
    "\n",
    "Functional programming is based on function executions and avoids changing states or mutable data. Colloquially it can be said that functional programming thereby mimics mathematics in a way. "
   ]
  },
  {
   "cell_type": "code",
   "execution_count": 37,
   "metadata": {},
   "outputs": [
    {
     "name": "stdout",
     "output_type": "stream",
     "text": [
      "[0, 1, 4, 9, 16, 25]\n"
     ]
    }
   ],
   "source": [
    "def square_list(lst):\n",
    "    if len(lst) == 1:\n",
    "        return [square(lst[0])]\n",
    "    else:\n",
    "        return [square(lst[0])] + square_list(lst[1:])\n",
    "    \n",
    "print(square_list(numbers))"
   ]
  },
  {
   "cell_type": "markdown",
   "metadata": {},
   "source": [
    "### Object-oriented programming\n",
    "\n",
    "Object-oriented programming is based on _objects_ that are instances of _classes_. The use of objects and classes allows for a more intuitive understanding of a lot of code, as well as reuse of code. The main disadvantage is that even simple tasks require comparatively many lines of code, and so most object-oriented codes can look very complex at first. When implementing classes it is very natural to use a mix of procedural and functional programming."
   ]
  },
  {
   "cell_type": "code",
   "execution_count": 38,
   "metadata": {},
   "outputs": [
    {
     "name": "stdout",
     "output_type": "stream",
     "text": [
      "[0, 1, 4, 9, 16, 25]\n"
     ]
    }
   ],
   "source": [
    "class ListSquarer(object):\n",
    "    \n",
    "    def __init__(self, lst):\n",
    "        self.vals = lst\n",
    "        self.len = len(lst)\n",
    "        \n",
    "    def square_val(self, val):\n",
    "        return val*val\n",
    "            \n",
    "    def square(self):\n",
    "        for i in range(self.len):\n",
    "            self.vals[i] = self.square_val(self.vals[i])\n",
    "            \n",
    "    def __repr__(self):\n",
    "        return self.vals.__repr__()\n",
    "            \n",
    "squares = ListSquarer(numbers)\n",
    "squares.square()\n",
    "print(squares)"
   ]
  },
  {
   "cell_type": "markdown",
   "metadata": {},
   "source": [
    "The differences can be further illustrated by demonstrating how we implement repeated actions in each paradigm. Let's say that we want to calculate the squares of the squares of our numbers."
   ]
  },
  {
   "cell_type": "code",
   "execution_count": 43,
   "metadata": {},
   "outputs": [
    {
     "name": "stdout",
     "output_type": "stream",
     "text": [
      "[0, 1, 256, 6561, 65536, 390625]\n",
      "[0, 1, 256, 6561, 65536, 390625]\n",
      "[0, 1, 256, 6561, 65536, 390625]\n"
     ]
    }
   ],
   "source": [
    "# procedural paradigm\n",
    "squares_ = []\n",
    "for n in numbers:\n",
    "    squares_ += [square(n)]\n",
    "    \n",
    "squares = []\n",
    "for n in squares_:\n",
    "    squares += [square(n)]\n",
    "    \n",
    "print(squares)\n",
    "\n",
    "\n",
    "# functional paradigm\n",
    "squares_ = square_list(numbers)\n",
    "squares = square_list(squares_)\n",
    "print(squares)\n",
    "\n",
    "\n",
    "# object-oriented paradigm\n",
    "squares = ListSquarer(numbers)\n",
    "squares.square()\n",
    "squares.square()\n",
    "print(squares)"
   ]
  },
  {
   "cell_type": "markdown",
   "metadata": {},
   "source": [
    "This example illustrates how object-oriented programming promotes reusability of code alongside reduction of potential bugs. The procedural paradigm requires a lot of code duplication, which is a major source of errors. Imagine for example, that you now would like to cube functions instead of squaring them. In the procedural example you have to make sure that you change all occurrences of ```square``` to ```cube```. This problem is eliminated in the example of the functional paradigm. However, we need to use a placeholder variable ```squares_``` that is manually defined. Confusing ```squares``` and ```squares_``` is another common source of errors in coding. The example of the object-oriented programming paradigm does not suffer from either of these shortcomings: We simply reapply the _class method_ ```square()``` as often as we like on the same instance of the class ```ListSquarer```."
   ]
  },
  {
   "cell_type": "markdown",
   "metadata": {},
   "source": [
    "## Objects, classes, instances\n",
    "\n",
    "_What is an object?_ An object is an abstract concept and can be anything that could be described as a _thing_. We define the behaviour of objects by implementing _classes_ and create a representation of an object by creating an _instance_ of a class.\n",
    "\n",
    "### Example object: Person"
   ]
  },
  {
   "cell_type": "code",
   "execution_count": 53,
   "metadata": {},
   "outputs": [
    {
     "name": "stdout",
     "output_type": "stream",
     "text": [
      "Alice is 20 years old. Alice is currently awake and not working.\n",
      "Bob is 34 years old. Bob is currently awake and not working.\n",
      "Carol is 28 years old. Carol is currently awake and not working.\n",
      "Alice is 20 years old. Alice is currently asleep and not working.\n",
      "Bob is 34 years old. Bob is currently awake and working.\n",
      "Carol is 29 years old. Carol is currently awake and not working.\n",
      "Alice is 20 years old. Alice is currently awake and working.\n",
      "Bob is 34 years old. Bob is currently asleep and not working.\n",
      "Carol is 29 years old. Carol is currently awake and working.\n"
     ]
    }
   ],
   "source": [
    "# An implementation of a class defining the behaviour of the Person object. In this case, a Person\n",
    "# has attributes name and age, state, and methods that mutate attributes.\n",
    "class Person(object):\n",
    "    \n",
    "    def __init__(self, name, age, state=\"awake\", work=False):\n",
    "        self.name = name\n",
    "        self.age = age\n",
    "        self.state = state\n",
    "        self.working = work\n",
    "        \n",
    "    def sleep(self):\n",
    "        self.working = False\n",
    "        self.state = \"asleep\"\n",
    "        \n",
    "    def wake(self):\n",
    "        self.state = \"awake\"\n",
    "        \n",
    "    def work(self):\n",
    "        if self.state == \"asleep\":\n",
    "            self.wake()\n",
    "        self.working = True\n",
    "        \n",
    "    def birthday(self):\n",
    "        self.age += 1\n",
    "        \n",
    "    def __repr__(self):\n",
    "        return f\"{self.name} is {self.age:d} years old. {self.name} is currently {self.state} and {'not ' if not self.working else ''}working.\"\n",
    "        \n",
    "# Creating several instances of the person object\n",
    "alice = Person(\"Alice\", 20)\n",
    "bob = Person(\"Bob\", 34)\n",
    "carol = Person(\"Carol\", 28)\n",
    "\n",
    "print(alice)\n",
    "print(bob)\n",
    "print(carol)\n",
    "\n",
    "alice.sleep()\n",
    "bob.work()\n",
    "carol.birthday()\n",
    "\n",
    "print(alice)\n",
    "print(bob)\n",
    "print(carol)\n",
    "\n",
    "alice.work()\n",
    "bob.sleep()\n",
    "carol.work()\n",
    "\n",
    "print(alice)\n",
    "print(bob)\n",
    "print(carol)"
   ]
  },
  {
   "cell_type": "markdown",
   "metadata": {},
   "source": [
    "In Python, _everything_ is an object. Integer, float, string, bool variables are objects. Lists and dictionaries are objects. "
   ]
  },
  {
   "cell_type": "markdown",
   "metadata": {},
   "source": [
    "### Methods vs. functions\n",
    "\n",
    "In Python, a function is implemented by using the ```def``` keyword, followed by the name of the function and its arguments in brackets, like the ```square()``` function we implemented earlier:"
   ]
  },
  {
   "cell_type": "code",
   "execution_count": 46,
   "metadata": {},
   "outputs": [],
   "source": [
    "def square(a):\n",
    "    return a*a"
   ]
  },
  {
   "cell_type": "markdown",
   "metadata": {},
   "source": [
    "We can call this function on any "
   ]
  }
 ],
 "metadata": {
  "kernelspec": {
   "display_name": "Python 3",
   "language": "python",
   "name": "python3"
  },
  "language_info": {
   "codemirror_mode": {
    "name": "ipython",
    "version": 3
   },
   "file_extension": ".py",
   "mimetype": "text/x-python",
   "name": "python",
   "nbconvert_exporter": "python",
   "pygments_lexer": "ipython3",
   "version": "3.8.2"
  }
 },
 "nbformat": 4,
 "nbformat_minor": 4
}

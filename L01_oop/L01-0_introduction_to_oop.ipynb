{
 "cells": [
  {
   "cell_type": "markdown",
   "metadata": {},
   "source": [
    "# L01.0 Introduction to object-oriented programming in Python\n",
    "\n",
    "Python is an _interpreted_, _high-level_ programming language. Interpreted means that Python code is executed _at runtime_. In contrast to that, C and Java are examples of _compiled_ programming languages, which are compiled into _executables_ that produce results/outputs. High-level means that Python is designed to be easily human _readable_, meaning that anyone with any programming experience can (in principle) easily understand Python code.\n",
    "\n",
    "Python is also a so-called multi-paradigm programming language that supports the following programming paradigms:\n",
    "\n",
    "- functional programming\n",
    "- procedural programming\n",
    "- object-oriented programming\n",
    "\n",
    "Their differences are best explained using examples. Here, we will implement the intuitive (but arguably useless) example of calculating the square of each number in a list of numbers:"
   ]
  },
  {
   "cell_type": "code",
   "execution_count": 35,
   "metadata": {},
   "outputs": [],
   "source": [
    "numbers = [0, 1, 2, 3, 4, 5]\n",
    "\n",
    "# function that squares a number a\n",
    "def square(a):\n",
    "    return a*a"
   ]
  },
  {
   "cell_type": "markdown",
   "metadata": {},
   "source": [
    "### Procedural programming\n",
    "\n",
    "Procedural programming is based on executing a series of computational steps. By using functions, procedural programming provides the simplest form of modularisation."
   ]
  },
  {
   "cell_type": "code",
   "execution_count": 36,
   "metadata": {},
   "outputs": [
    {
     "name": "stdout",
     "output_type": "stream",
     "text": [
      "[0, 1, 4, 9, 16, 25]\n"
     ]
    }
   ],
   "source": [
    "squares = []\n",
    "for n in numbers:\n",
    "    squares += [square(n)]\n",
    "\n",
    "# view output\n",
    "print(squares)"
   ]
  },
  {
   "cell_type": "markdown",
   "metadata": {},
   "source": [
    "### Functional programming\n",
    "\n",
    "Functional programming is based on function executions and avoids changing states or mutable data. Colloquially it can be said that functional programming thereby mimics mathematics in a way. "
   ]
  },
  {
   "cell_type": "code",
   "execution_count": 37,
   "metadata": {},
   "outputs": [
    {
     "name": "stdout",
     "output_type": "stream",
     "text": [
      "[0, 1, 4, 9, 16, 25]\n"
     ]
    }
   ],
   "source": [
    "def square_list(lst):\n",
    "    if len(lst) == 1:\n",
    "        return [square(lst[0])]\n",
    "    else:\n",
    "        return [square(lst[0])] + square_list(lst[1:])\n",
    "    \n",
    "print(square_list(numbers))"
   ]
  },
  {
   "cell_type": "markdown",
   "metadata": {},
   "source": [
    "### Object-oriented programming\n",
    "\n",
    "Object-oriented programming is based on _objects_ that are instances of _classes_. The use of objects and classes allows for a more intuitive understanding of a lot of code, as well as reuse of code. The main disadvantage is that even simple tasks require comparatively many lines of code, and so most object-oriented codes can look very complex at first. When implementing classes it is very natural to use a mix of procedural and functional programming."
   ]
  },
  {
   "cell_type": "code",
   "execution_count": 38,
   "metadata": {},
   "outputs": [
    {
     "name": "stdout",
     "output_type": "stream",
     "text": [
      "[0, 1, 4, 9, 16, 25]\n"
     ]
    }
   ],
   "source": [
    "class ListSquarer(object):\n",
    "    \n",
    "    def __init__(self, lst):\n",
    "        self.vals = lst\n",
    "        self.len = len(lst)\n",
    "        \n",
    "    def square_val(self, val):\n",
    "        return val*val\n",
    "            \n",
    "    def square(self):\n",
    "        for i in range(self.len):\n",
    "            self.vals[i] = self.square_val(self.vals[i])\n",
    "            \n",
    "    def __repr__(self):\n",
    "        return self.vals.__repr__()\n",
    "            \n",
    "squares = ListSquarer(numbers)\n",
    "squares.square()\n",
    "print(squares)"
   ]
  },
  {
   "cell_type": "markdown",
   "metadata": {},
   "source": [
    "The differences can be further illustrated by demonstrating how we implement repeated actions in each paradigm. Let's say that we want to calculate the squares of the squares of our numbers."
   ]
  },
  {
   "cell_type": "code",
   "execution_count": 43,
   "metadata": {},
   "outputs": [
    {
     "name": "stdout",
     "output_type": "stream",
     "text": [
      "[0, 1, 256, 6561, 65536, 390625]\n",
      "[0, 1, 256, 6561, 65536, 390625]\n",
      "[0, 1, 256, 6561, 65536, 390625]\n"
     ]
    }
   ],
   "source": [
    "# procedural paradigm\n",
    "squares_ = []\n",
    "for n in numbers:\n",
    "    squares_ += [square(n)]\n",
    "    \n",
    "squares = []\n",
    "for n in squares_:\n",
    "    squares += [square(n)]\n",
    "    \n",
    "print(squares)\n",
    "\n",
    "\n",
    "# functional paradigm\n",
    "squares_ = square_list(numbers)\n",
    "squares = square_list(squares_)\n",
    "print(squares)\n",
    "\n",
    "\n",
    "# object-oriented paradigm\n",
    "squares = ListSquarer(numbers)\n",
    "squares.square()\n",
    "squares.square()\n",
    "print(squares)"
   ]
  },
  {
   "cell_type": "markdown",
   "metadata": {},
   "source": [
    "This example illustrates how object-oriented programming promotes reusability of code alongside reduction of potential bugs. The procedural paradigm requires a lot of code duplication, which is a major source of errors. Imagine for example, that you now would like to cube functions instead of squaring them. In the procedural example you have to make sure that you change all occurrences of ```square``` to ```cube```. This problem is eliminated in the example of the functional paradigm. However, we need to use a placeholder variable ```squares_``` that is manually defined. Confusing ```squares``` and ```squares_``` is another common source of errors in coding. The example of the object-oriented programming paradigm does not suffer from either of these shortcomings: We simply reapply the _class method_ ```square()``` as often as we like on the same instance of the class ```ListSquarer```."
   ]
  },
  {
   "cell_type": "markdown",
   "metadata": {},
   "source": [
    "## Objects, classes, instances\n",
    "\n",
    "_What is an object?_ An object is an abstract concept and can be anything that could be described as a _thing_. We define the behaviour of objects by implementing _classes_ and create a representation of an object by creating an _instance_ of a class.\n",
    "\n",
    "### Example object: Person"
   ]
  },
  {
   "cell_type": "code",
   "execution_count": 57,
   "metadata": {},
   "outputs": [
    {
     "name": "stdout",
     "output_type": "stream",
     "text": [
      "Alice is 20 years old. Alice is currently awake and not working.\n",
      "Bob is 34 years old. Bob is currently awake and not working.\n",
      "Carol is 28 years old. Carol is currently awake and not working.\n",
      "Alice is 20 years old. Alice is currently asleep and not working.\n",
      "Bob is 34 years old. Bob is currently awake and working.\n",
      "Carol is 29 years old. Carol is currently awake and not working.\n",
      "Alice is 20 years old. Alice is currently awake and working.\n",
      "Bob is 34 years old. Bob is currently asleep and not working.\n",
      "Carol is 29 years old. Carol is currently awake and working.\n",
      "Alice greets Bob.\n"
     ]
    }
   ],
   "source": [
    "# An implementation of a class defining the behaviour of the Person object. In this case, a Person\n",
    "# has attributes name and age, state, and methods that mutate attributes.\n",
    "class Person(object):\n",
    "    \n",
    "    def __init__(self, name, age, state=\"awake\", work=False):\n",
    "        self.name = name\n",
    "        self.age = age\n",
    "        self.state = state\n",
    "        self.working = work\n",
    "        \n",
    "    def sleep(self):\n",
    "        self.working = False\n",
    "        self.state = \"asleep\"\n",
    "        \n",
    "    def wake(self):\n",
    "        self.state = \"awake\"\n",
    "        \n",
    "    def work(self):\n",
    "        if self.state == \"asleep\":\n",
    "            self.wake()\n",
    "        self.working = True\n",
    "        \n",
    "    def birthday(self):\n",
    "        self.age += 1\n",
    "        \n",
    "    def greet(self, person):\n",
    "        print(f\"{self.name} greets {person.name}.\")\n",
    "        \n",
    "    def __repr__(self):\n",
    "        return f\"{self.name} is {self.age:d} years old. {self.name} is currently {self.state} and {'not ' if not self.working else ''}working.\"\n",
    "        \n",
    "# Creating several instances of the person object\n",
    "alice = Person(\"Alice\", 20)\n",
    "bob = Person(\"Bob\", 34)\n",
    "carol = Person(\"Carol\", 28)\n",
    "\n",
    "print(alice)\n",
    "print(bob)\n",
    "print(carol)\n",
    "\n",
    "alice.sleep()\n",
    "bob.work()\n",
    "carol.birthday()\n",
    "\n",
    "print(alice)\n",
    "print(bob)\n",
    "print(carol)\n",
    "\n",
    "alice.work()\n",
    "bob.sleep()\n",
    "carol.work()\n",
    "\n",
    "print(alice)\n",
    "print(bob)\n",
    "print(carol)\n",
    "\n",
    "alice.greet(bob)"
   ]
  },
  {
   "cell_type": "markdown",
   "metadata": {},
   "source": [
    "In Python, _everything_ is an object. Integer, float, string, bool variables are objects. Lists and dictionaries are objects. "
   ]
  },
  {
   "cell_type": "markdown",
   "metadata": {},
   "source": [
    "### Methods vs. functions\n",
    "\n",
    "In Python, a function is implemented by using the ```def``` keyword, followed by the name of the function and its arguments in brackets, like the ```square()``` function we implemented earlier:"
   ]
  },
  {
   "cell_type": "code",
   "execution_count": 46,
   "metadata": {},
   "outputs": [],
   "source": [
    "def square(a):\n",
    "    return a*a"
   ]
  },
  {
   "cell_type": "markdown",
   "metadata": {},
   "source": [
    "We can call this function on any object in Python (although it might not make sense on all of them), and some of the may throw errors. For example, the ```*``` is designed to only work on int and float objects, so if another data type can't be cast to either int or float (bool can), then an error is raised."
   ]
  },
  {
   "cell_type": "code",
   "execution_count": 56,
   "metadata": {},
   "outputs": [
    {
     "name": "stdout",
     "output_type": "stream",
     "text": [
      "4\n",
      "20.25\n",
      "0\n"
     ]
    },
    {
     "ename": "TypeError",
     "evalue": "can't multiply sequence by non-int of type 'str'",
     "output_type": "error",
     "traceback": [
      "\u001b[0;31m---------------------------------------------------------------------------\u001b[0m",
      "\u001b[0;31mTypeError\u001b[0m                                 Traceback (most recent call last)",
      "\u001b[0;32m<ipython-input-56-37f173a01b9c>\u001b[0m in \u001b[0;36m<module>\u001b[0;34m\u001b[0m\n\u001b[1;32m      7\u001b[0m \u001b[0mprint\u001b[0m\u001b[0;34m(\u001b[0m\u001b[0msquare\u001b[0m\u001b[0;34m(\u001b[0m\u001b[0mb\u001b[0m\u001b[0;34m)\u001b[0m\u001b[0;34m)\u001b[0m\u001b[0;34m\u001b[0m\u001b[0;34m\u001b[0m\u001b[0m\n\u001b[1;32m      8\u001b[0m \u001b[0mprint\u001b[0m\u001b[0;34m(\u001b[0m\u001b[0msquare\u001b[0m\u001b[0;34m(\u001b[0m\u001b[0mc\u001b[0m\u001b[0;34m)\u001b[0m\u001b[0;34m)\u001b[0m\u001b[0;34m\u001b[0m\u001b[0;34m\u001b[0m\u001b[0m\n\u001b[0;32m----> 9\u001b[0;31m \u001b[0mprint\u001b[0m\u001b[0;34m(\u001b[0m\u001b[0msquare\u001b[0m\u001b[0;34m(\u001b[0m\u001b[0md\u001b[0m\u001b[0;34m)\u001b[0m\u001b[0;34m)\u001b[0m\u001b[0;34m\u001b[0m\u001b[0;34m\u001b[0m\u001b[0m\n\u001b[0m",
      "\u001b[0;32m<ipython-input-46-7eccc44720bf>\u001b[0m in \u001b[0;36msquare\u001b[0;34m(a)\u001b[0m\n\u001b[1;32m      1\u001b[0m \u001b[0;32mdef\u001b[0m \u001b[0msquare\u001b[0m\u001b[0;34m(\u001b[0m\u001b[0ma\u001b[0m\u001b[0;34m)\u001b[0m\u001b[0;34m:\u001b[0m\u001b[0;34m\u001b[0m\u001b[0;34m\u001b[0m\u001b[0m\n\u001b[0;32m----> 2\u001b[0;31m     \u001b[0;32mreturn\u001b[0m \u001b[0ma\u001b[0m\u001b[0;34m*\u001b[0m\u001b[0ma\u001b[0m\u001b[0;34m\u001b[0m\u001b[0;34m\u001b[0m\u001b[0m\n\u001b[0m",
      "\u001b[0;31mTypeError\u001b[0m: can't multiply sequence by non-int of type 'str'"
     ]
    }
   ],
   "source": [
    "a = 2\n",
    "b = 4.5\n",
    "c = False\n",
    "d = \"hei\"\n",
    "\n",
    "print(square(a))\n",
    "print(square(b))\n",
    "print(square(c))\n",
    "print(square(d))"
   ]
  },
  {
   "cell_type": "markdown",
   "metadata": {},
   "source": [
    "A _method_ is very similarly defined using the ```def``` keyword, but it is _bound to an object_. A method is always called on an instance of a class, like ```carol.birthday()``` in the above example. The method definition always receives ```self``` as its first argument, which represents the instance of the object the method is called on (```carol``` in this example).*"
   ]
  },
  {
   "cell_type": "code",
   "execution_count": 66,
   "metadata": {},
   "outputs": [
    {
     "name": "stdout",
     "output_type": "stream",
     "text": [
      "Carol is 31 years old. Carol is currently awake and working.\n"
     ]
    }
   ],
   "source": [
    "# birthday is a method for the object carol\n",
    "carol.birthday()\n",
    "print(carol)"
   ]
  },
  {
   "cell_type": "markdown",
   "metadata": {},
   "source": [
    "### Class and instance attributes\n",
    "\n",
    "Class definitions can contain attributes that are shared by all instances of the class (_class attributes_) or attributes that are (potentially, but not necessarily) unique to an instance of a class (_instance attributes_). Class attributes are usually defined right after the definition of the class and have to be called using the keyword ```self```, while instance attributes have to be attached to the keyword ```self``` and are, by convention, defined in ```__init__()```."
   ]
  },
  {
   "cell_type": "code",
   "execution_count": 69,
   "metadata": {},
   "outputs": [
    {
     "name": "stdout",
     "output_type": "stream",
     "text": [
      "This is a Shiba Inu, species canis lupus familiaris.\n",
      "This is a Dalmatian, species canis lupus familiaris.\n",
      "This is a Labrador, species canis lupus familiaris.\n"
     ]
    }
   ],
   "source": [
    "class Dog(object):\n",
    "    # Class attributes\n",
    "    genus = \"canis\"\n",
    "    species = \"lupus\"\n",
    "    subspecies = \"familiaris\"\n",
    "    \n",
    "    def __init__(self, breed):\n",
    "        self.breed = breed\n",
    "        \n",
    "    def __repr__(self):\n",
    "        return f\"This is a {self.breed}, species {self.genus} {self.species} {self.subspecies}.\"\n",
    "    \n",
    "shiba = Dog(\"Shiba Inu\")\n",
    "dalmatian = Dog(\"Dalmatian\")\n",
    "labrador = Dog(\"Labrador\")\n",
    "\n",
    "print(shiba)\n",
    "print(dalmatian)\n",
    "print(labrador)"
   ]
  },
  {
   "cell_type": "markdown",
   "metadata": {},
   "source": [
    "### Private attributes\n",
    "\n",
    "Private attributes that cannot be touched from outside of the class definition itself do not exist in Python. By convention, attributes that start with an underscore should be considered as private, i.e. it was the intention of the developer that users never touch this variable, even though she cannot prevent them from doing so. In that case the developer will most likely have implemented a _getter_ method that returns the value as it is done in programming languages that allow for private variables."
   ]
  },
  {
   "cell_type": "code",
   "execution_count": 71,
   "metadata": {},
   "outputs": [
    {
     "name": "stdout",
     "output_type": "stream",
     "text": [
      "Shiba Inu\n",
      "Shiba Inu\n"
     ]
    }
   ],
   "source": [
    "class Dog(object):\n",
    "    # Class attributes, \"private\"\n",
    "    _genus = \"canis\"\n",
    "    _species = \"lupus\"\n",
    "    _subspecies = \"familiaris\"\n",
    "    \n",
    "    def __init__(self, breed):\n",
    "        # Make breed a \"private\" attribute since it should never be changed after instantiation\n",
    "        self._breed = breed\n",
    "        \n",
    "    def get_breed(self):\n",
    "        # Getter function for the \"private\" attribute self._breed\n",
    "        return self._breed\n",
    "        \n",
    "    def __repr__(self):\n",
    "        return f\"This is a {self._breed}, species {self._genus} {self._species} {self._subspecies}.\"\n",
    "    \n",
    "shiba = Dog(\"Shiba Inu\")\n",
    "print(shiba.get_breed())\n",
    "print(shiba._breed)"
   ]
  },
  {
   "cell_type": "markdown",
   "metadata": {},
   "source": [
    "## Exercise: Deck of cards\n",
    "\n",
    "Implement the classes ```Card```, ```Deck```, and ```Player``` as an interface to play a game of cards using the standard 52 cards deck (suits are spades, hearts, diamonds, clubs). Classes need appropriate attributes and methods to for typical actions of a card game (a card for example has a suit and a value, a player for example has a hand and can pick a card from the deck into their hand or discard a card from their hand)."
   ]
  },
  {
   "cell_type": "code",
   "execution_count": 64,
   "metadata": {},
   "outputs": [
    {
     "name": "stdout",
     "output_type": "stream",
     "text": [
      "[0, 1, 2, 3, 4]\n",
      "[3, 0, 2, 1, 4]\n"
     ]
    }
   ],
   "source": [
    "## Hint 1: It can be useful to choose an appropriate encoding for suits and special values\n",
    "## jack, queen, king, ace into numbers using a dictionary\n",
    "suits = {0: \"spades\", 1: \"hearts\", 2: \"diamonds\", 3: \"clubs\"}\n",
    "vals = {1: \"ace\", 2: \"2\", 3: \"3\", 4: \"4\", 5: \"5\", 6: \"6\", 7: \"7\",\n",
    "        8: \"8\", 9: \"9\", 10: \"10\", 11: \"J\", 12: \"Q\", 13: \"K\"}\n",
    "\n",
    "## Hint 2: You can shuffle a list using the function shuffle from the module random\n",
    "import random\n",
    "lst = list(range(5))\n",
    "print(lst)\n",
    "random.shuffle(lst)\n",
    "print(lst)"
   ]
  },
  {
   "cell_type": "code",
   "execution_count": 70,
   "metadata": {},
   "outputs": [],
   "source": [
    "## Your code here"
   ]
  }
 ],
 "metadata": {
  "kernelspec": {
   "display_name": "Python 3",
   "language": "python",
   "name": "python3"
  },
  "language_info": {
   "codemirror_mode": {
    "name": "ipython",
    "version": 3
   },
   "file_extension": ".py",
   "mimetype": "text/x-python",
   "name": "python",
   "nbconvert_exporter": "python",
   "pygments_lexer": "ipython3",
   "version": "3.8.2"
  }
 },
 "nbformat": 4,
 "nbformat_minor": 4
}
